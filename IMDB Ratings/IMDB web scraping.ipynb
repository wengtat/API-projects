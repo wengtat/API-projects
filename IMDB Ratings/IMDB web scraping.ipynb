{
 "cells": [
  {
   "cell_type": "code",
   "execution_count": 5,
   "id": "ff1cc086",
   "metadata": {},
   "outputs": [],
   "source": [
    "# !pip install requests"
   ]
  },
  {
   "cell_type": "code",
   "execution_count": 6,
   "id": "c2c4d571",
   "metadata": {},
   "outputs": [],
   "source": [
    "# !pip install bs4"
   ]
  },
  {
   "cell_type": "code",
   "execution_count": 89,
   "id": "60cfdbe5",
   "metadata": {},
   "outputs": [],
   "source": [
    "from bs4 import BeautifulSoup"
   ]
  },
  {
   "cell_type": "code",
   "execution_count": 90,
   "id": "acc7eea4",
   "metadata": {},
   "outputs": [],
   "source": [
    "import requests"
   ]
  },
  {
   "cell_type": "code",
   "execution_count": 91,
   "id": "200830bc",
   "metadata": {},
   "outputs": [],
   "source": [
    "url = requests.get('https://www.imdb.com/chart/top/')\n",
    "# To track error if website incorrect\n",
    "url.raise_for_status()"
   ]
  },
  {
   "cell_type": "code",
   "execution_count": 92,
   "id": "d5eb3d60",
   "metadata": {},
   "outputs": [],
   "source": [
    "soup = BeautifulSoup(url.text,\"html.parser\")"
   ]
  },
  {
   "cell_type": "code",
   "execution_count": 93,
   "id": "ba649b85",
   "metadata": {},
   "outputs": [],
   "source": [
    "# Look for thead of the table from inspect\n",
    "movies = soup.find('tbody',class_=\"lister-list\").find_all('tr')"
   ]
  },
  {
   "cell_type": "code",
   "execution_count": 94,
   "id": "d26097db",
   "metadata": {},
   "outputs": [
    {
     "data": {
      "text/plain": [
       "250"
      ]
     },
     "execution_count": 94,
     "metadata": {},
     "output_type": "execute_result"
    }
   ],
   "source": [
    "#Double check if all 250 tr are located\n",
    "len(movies)"
   ]
  },
  {
   "cell_type": "code",
   "execution_count": 95,
   "id": "ff47511a",
   "metadata": {},
   "outputs": [],
   "source": [
    "import requests\n",
    "import pandas as pd"
   ]
  },
  {
   "cell_type": "code",
   "execution_count": 98,
   "id": "93b4e486",
   "metadata": {},
   "outputs": [],
   "source": [
    "# excel = openpyxl.Workbook()\n",
    "# sheet = excel.active\n",
    "# sheet.title = 'Top Rated Movies'\n",
    "# sheet.append(['Movie_Rank','Movie_Name','Year_of_Release','IMDB_rating'])\n",
    "\n",
    "IMDB = []\n",
    "for movie in movies:\n",
    "    name = movie.find('td',class_=\"titleColumn\").a.text\n",
    "    rank = movie.find('td',class_=\"titleColumn\").get_text(strip=True).split('.')[0]\n",
    "    year = movie.find('td',class_=\"titleColumn\").span.text.strip(\"()\")\n",
    "    rating = movie.find('td',class_=\"ratingColumn\").strong.text\n",
    "    \n",
    "    IMDB.append([rank,name,year,rating])\n"
   ]
  },
  {
   "cell_type": "code",
   "execution_count": 100,
   "id": "a31a98b3",
   "metadata": {},
   "outputs": [],
   "source": [
    "df = pd.DataFrame(IMDB,columns=['Movie_Rank','Movie_Name','Year_of_Release','IMDB_rating'])"
   ]
  },
  {
   "cell_type": "code",
   "execution_count": 103,
   "id": "cbeef3ec",
   "metadata": {},
   "outputs": [],
   "source": [
    "df = df.set_index('Movie_Rank')"
   ]
  },
  {
   "cell_type": "code",
   "execution_count": 104,
   "id": "6a2ff574",
   "metadata": {},
   "outputs": [
    {
     "data": {
      "text/html": [
       "<div>\n",
       "<style scoped>\n",
       "    .dataframe tbody tr th:only-of-type {\n",
       "        vertical-align: middle;\n",
       "    }\n",
       "\n",
       "    .dataframe tbody tr th {\n",
       "        vertical-align: top;\n",
       "    }\n",
       "\n",
       "    .dataframe thead th {\n",
       "        text-align: right;\n",
       "    }\n",
       "</style>\n",
       "<table border=\"1\" class=\"dataframe\">\n",
       "  <thead>\n",
       "    <tr style=\"text-align: right;\">\n",
       "      <th></th>\n",
       "      <th>Movie_Name</th>\n",
       "      <th>Year_of_Release</th>\n",
       "      <th>IMDB_rating</th>\n",
       "    </tr>\n",
       "    <tr>\n",
       "      <th>Movie_Rank</th>\n",
       "      <th></th>\n",
       "      <th></th>\n",
       "      <th></th>\n",
       "    </tr>\n",
       "  </thead>\n",
       "  <tbody>\n",
       "    <tr>\n",
       "      <th>1</th>\n",
       "      <td>The Shawshank Redemption</td>\n",
       "      <td>1994</td>\n",
       "      <td>9.2</td>\n",
       "    </tr>\n",
       "    <tr>\n",
       "      <th>2</th>\n",
       "      <td>The Godfather</td>\n",
       "      <td>1972</td>\n",
       "      <td>9.2</td>\n",
       "    </tr>\n",
       "    <tr>\n",
       "      <th>3</th>\n",
       "      <td>The Dark Knight</td>\n",
       "      <td>2008</td>\n",
       "      <td>9.0</td>\n",
       "    </tr>\n",
       "    <tr>\n",
       "      <th>4</th>\n",
       "      <td>The Godfather Part II</td>\n",
       "      <td>1974</td>\n",
       "      <td>9.0</td>\n",
       "    </tr>\n",
       "    <tr>\n",
       "      <th>5</th>\n",
       "      <td>12 Angry Men</td>\n",
       "      <td>1957</td>\n",
       "      <td>9.0</td>\n",
       "    </tr>\n",
       "    <tr>\n",
       "      <th>...</th>\n",
       "      <td>...</td>\n",
       "      <td>...</td>\n",
       "      <td>...</td>\n",
       "    </tr>\n",
       "    <tr>\n",
       "      <th>246</th>\n",
       "      <td>Dersu Uzala</td>\n",
       "      <td>1975</td>\n",
       "      <td>8.0</td>\n",
       "    </tr>\n",
       "    <tr>\n",
       "      <th>247</th>\n",
       "      <td>The Help</td>\n",
       "      <td>2011</td>\n",
       "      <td>8.0</td>\n",
       "    </tr>\n",
       "    <tr>\n",
       "      <th>248</th>\n",
       "      <td>Aladdin</td>\n",
       "      <td>1992</td>\n",
       "      <td>8.0</td>\n",
       "    </tr>\n",
       "    <tr>\n",
       "      <th>249</th>\n",
       "      <td>Gandhi</td>\n",
       "      <td>1982</td>\n",
       "      <td>8.0</td>\n",
       "    </tr>\n",
       "    <tr>\n",
       "      <th>250</th>\n",
       "      <td>Dances with Wolves</td>\n",
       "      <td>1990</td>\n",
       "      <td>8.0</td>\n",
       "    </tr>\n",
       "  </tbody>\n",
       "</table>\n",
       "<p>250 rows × 3 columns</p>\n",
       "</div>"
      ],
      "text/plain": [
       "                          Movie_Name Year_of_Release IMDB_rating\n",
       "Movie_Rank                                                      \n",
       "1           The Shawshank Redemption            1994         9.2\n",
       "2                      The Godfather            1972         9.2\n",
       "3                    The Dark Knight            2008         9.0\n",
       "4              The Godfather Part II            1974         9.0\n",
       "5                       12 Angry Men            1957         9.0\n",
       "...                              ...             ...         ...\n",
       "246                      Dersu Uzala            1975         8.0\n",
       "247                         The Help            2011         8.0\n",
       "248                          Aladdin            1992         8.0\n",
       "249                           Gandhi            1982         8.0\n",
       "250               Dances with Wolves            1990         8.0\n",
       "\n",
       "[250 rows x 3 columns]"
      ]
     },
     "execution_count": 104,
     "metadata": {},
     "output_type": "execute_result"
    }
   ],
   "source": [
    "df"
   ]
  },
  {
   "cell_type": "code",
   "execution_count": 106,
   "id": "ab493dbc",
   "metadata": {},
   "outputs": [],
   "source": [
    "df.to_csv('IMDB_Movie_Ratings.csv')"
   ]
  },
  {
   "cell_type": "code",
   "execution_count": null,
   "id": "c136a4f6",
   "metadata": {},
   "outputs": [],
   "source": []
  }
 ],
 "metadata": {
  "kernelspec": {
   "display_name": "Python 3 (ipykernel)",
   "language": "python",
   "name": "python3"
  },
  "language_info": {
   "codemirror_mode": {
    "name": "ipython",
    "version": 3
   },
   "file_extension": ".py",
   "mimetype": "text/x-python",
   "name": "python",
   "nbconvert_exporter": "python",
   "pygments_lexer": "ipython3",
   "version": "3.9.13"
  }
 },
 "nbformat": 4,
 "nbformat_minor": 5
}
