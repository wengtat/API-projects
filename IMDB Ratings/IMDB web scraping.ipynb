{
 "cells": [
  {
   "cell_type": "code",
   "execution_count": 5,
   "id": "e9a70bed",
   "metadata": {},
   "outputs": [],
   "source": [
    "# !pip install requests"
   ]
  },
  {
   "cell_type": "code",
   "execution_count": 6,
   "id": "20aab3a5",
   "metadata": {},
   "outputs": [],
   "source": [
    "# !pip install bs4"
   ]
  },
  {
   "cell_type": "code",
   "execution_count": 9,
   "id": "5dda3155",
   "metadata": {},
   "outputs": [],
   "source": [
    "from bs4 import BeautifulSoup"
   ]
  },
  {
   "cell_type": "code",
   "execution_count": 11,
   "id": "aef6e0a6",
   "metadata": {},
   "outputs": [],
   "source": [
    "import requests"
   ]
  },
  {
   "cell_type": "code",
   "execution_count": 65,
   "id": "26945bc6",
   "metadata": {},
   "outputs": [],
   "source": [
    "url = requests.get('https://www.imdb.com/chart/top/')\n",
    "# To track error if website incorrect\n",
    "url.raise_for_status()"
   ]
  },
  {
   "cell_type": "code",
   "execution_count": 66,
   "id": "c49e16ea",
   "metadata": {},
   "outputs": [],
   "source": [
    "soup = BeautifulSoup(url.text,\"html.parser\")"
   ]
  },
  {
   "cell_type": "code",
   "execution_count": 67,
   "id": "f86afeab",
   "metadata": {},
   "outputs": [],
   "source": [
    "# Look for thead of the table from inspect\n",
    "movies = soup.find('tbody',class_=\"lister-list\").find_all('tr')"
   ]
  },
  {
   "cell_type": "code",
   "execution_count": 22,
   "id": "92a3cfd2",
   "metadata": {},
   "outputs": [
    {
     "data": {
      "text/plain": [
       "250"
      ]
     },
     "execution_count": 22,
     "metadata": {},
     "output_type": "execute_result"
    }
   ],
   "source": [
    "#Double check if all 250 tr are located\n",
    "len(movies)"
   ]
  },
  {
   "cell_type": "code",
   "execution_count": 68,
   "id": "3207182c",
   "metadata": {},
   "outputs": [],
   "source": [
    "for movie in movies:\n",
    "    with open(\"imdb.html\")\n",
    "    name = movie.find('td',class_=\"titleColumn\").a.text\n",
    "    rank = movie.find('td',class_=\"titleColumn\").get_text(strip=True).split('.')[0]\n",
    "    year = movie.find('td',class_=\"titleColumn\").span.text.strip(\"()\")\n",
    "    rating = movie.find('td',class_=\"ratingColumn\").strong.text"
   ]
  },
  {
   "cell_type": "code",
   "execution_count": 76,
   "id": "742fd161",
   "metadata": {},
   "outputs": [],
   "source": [
    "import requests, openpyxl"
   ]
  },
  {
   "cell_type": "code",
   "execution_count": 85,
   "id": "bab1c376",
   "metadata": {},
   "outputs": [],
   "source": [
    "excel = openpyxl.Workbook()\n",
    "sheet = excel.active\n",
    "sheet.title = 'Top Rated Movies'\n",
    "sheet.append(['Movie_Rank','Movie_Name','Year_of_Release','IMDB_rating'])\n",
    "\n",
    "for movie in movies:\n",
    "    name = movie.find('td',class_=\"titleColumn\").a.text\n",
    "    rank = movie.find('td',class_=\"titleColumn\").get_text(strip=True).split('.')[0]\n",
    "    year = movie.find('td',class_=\"titleColumn\").span.text.strip(\"()\")\n",
    "    rating = movie.find('td',class_=\"ratingColumn\").strong.text\n",
    "    sheet.append([rank,name,year,rating])\n"
   ]
  },
  {
   "cell_type": "code",
   "execution_count": 86,
   "id": "96359ed4",
   "metadata": {},
   "outputs": [],
   "source": [
    "excel.save('IMDB Movie Ratings.xlsx')"
   ]
  }
 ],
 "metadata": {
  "kernelspec": {
   "display_name": "Python 3 (ipykernel)",
   "language": "python",
   "name": "python3"
  },
  "language_info": {
   "codemirror_mode": {
    "name": "ipython",
    "version": 3
   },
   "file_extension": ".py",
   "mimetype": "text/x-python",
   "name": "python",
   "nbconvert_exporter": "python",
   "pygments_lexer": "ipython3",
   "version": "3.9.13"
  }
 },
 "nbformat": 4,
 "nbformat_minor": 5
}
